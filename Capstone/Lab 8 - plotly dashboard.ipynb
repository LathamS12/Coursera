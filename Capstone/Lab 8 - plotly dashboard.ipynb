{
  "metadata": {
    "language_info": {
      "codemirror_mode": {
        "name": "python",
        "version": 3
      },
      "file_extension": ".py",
      "mimetype": "text/x-python",
      "name": "python",
      "nbconvert_exporter": "python",
      "pygments_lexer": "ipython3",
      "version": "3.8"
    },
    "kernelspec": {
      "name": "python",
      "display_name": "Python (Pyodide)",
      "language": "python"
    }
  },
  "nbformat_minor": 4,
  "nbformat": 4,
  "cells": [
    {
      "cell_type": "code",
      "source": "# Import required libraries\nimport pandas as pd\nimport dash\nimport dash_html_components as html\nimport dash_core_components as dcc\nfrom dash.dependencies import Input, Output\nimport plotly.express as px\n\n# Read the airline data into pandas dataframe\nspacex_df = pd.read_csv(\"spacex_launch_dash.csv\")\nmax_payload = spacex_df['Payload Mass (kg)'].max()\nmin_payload = spacex_df['Payload Mass (kg)'].min()\n\n# Create a dash application\napp = dash.Dash(__name__)\n\n# Create an app layout\napp.layout = html.Div(children=[html.H1('SpaceX Launch Records Dashboard',\n                                        style={'textAlign': 'center', 'color': '#503D36',\n                                               'font-size': 40}),\n                                # TASK 1: Add a dropdown list to enable Launch Site selection\n                                # The default select value is for ALL sites\n                                dcc.Dropdown(id='site-dropdown',\n                                    options=[\n                                        {'label': 'All Sites', 'value': 'ALL'},\n                                        {'label': 'CCAFS LC-40', 'value': 'site1'},\n                                        {'label': 'KSC LC-39A', 'value': 'site2'},\n                                        {'label': 'VAFB SLC-4E', 'value': 'site3'},\n                                        {'label': 'CCAFS SLC-40', 'value': 'site4'},\n                                    ],\n                                    value='ALL',\n                                    placeholder=\"Select a launch site\",\n                                    searchable=True\n                                    ),\n\n                                html.Br(),\n\n                                # TASK 2: Add a pie chart to show the total successful launches count for all sites\n                                # If a specific launch site was selected, show the Success vs. Failed counts for the site\n                                html.Div(dcc.Graph(id='success-pie-chart')),\n                                html.Br(),\n\n                                html.P(\"Payload range (Kg):\"),\n                                # TASK 3: Add a slider to select payload range\n                                #dcc.RangeSlider(id='payload-slider',...)\n                                 dcc.RangeSlider(id='payload-slider',\n                                    min=0, max=10000, step=1000,\n                                    marks={0: '0', 1000: '1000', 2000: '2000',\n                                            3000: '3000', 4000: '4000', 5000: '5000',\n                                            6000: '6000', 7000: '7000', 8000: '8000', \n                                            9000: '9000', 10000: '10000'},\n                                    value=[min_payload, max_payload]),\n\n                                # TASK 4: Add a scatter chart to show the correlation between payload and launch success\n                                html.Div(dcc.Graph(id='success-payload-scatter-chart')),\n                                ])\n\n# TASK 2:\n# Add a callback function for `site-dropdown` as input, `success-pie-chart` as output\n@app.callback(Output(component_id='success-pie-chart', component_property='figure'),\n              Input(component_id='site-dropdown', component_property='value'))\ndef get_pie_chart(entered_site):\n    site_nums = ['site1', 'site2', 'site3', 'site4']\n    site_names = ['CCAFS LC-40', 'KSC LC-39A', 'VAFB SLC-4E', 'CCAFS SLC-40']\n\n    if entered_site == 'ALL':    \n        fig = px.pie(spacex_df, values='class', names='Launch Site', title='All sites')\n        return fig\n    else:\n        for site_num, site_name in zip(site_nums, site_names):\n            if entered_site == site_num:\n                filtered_df = spacex_df[spacex_df['Launch Site']==site_name]\n\n                fig = px.pie(filtered_df, values='class', names='Launch Site', title=site_name)\n                return fig\n\n# TASK 4:\n# Add a callback function for `site-dropdown` and `payload-slider` as inputs, `success-payload-scatter-chart` as output\n@app.callback(Output(component_id='success-payload-scatter-chart', component_property='figure'),\n              Input(component_id='site-dropdown', component_property='value'),\n              Input(component_id='payload-slider', component_property='value'))\ndef get_scatter_plot(entered_site, entered_payload):\n    site_nums = ['site1', 'site2', 'site3', 'site4']\n    site_names = ['CCAFS LC-40', 'KSC LC-39A', 'VAFB SLC-4E', 'CCAFS SLC-40']\n   \n    payload_df = spacex_df[spacex_df['Payload']==entered_payload]\n   \n    if entered_site == 'ALL':  \n        fig = px.scatter(payload_df, x='Payload Mass (kg)', y='payload_df', color='Booster Version Category')\n        return fig\n    else:\n        for site_num, site_name in zip(site_nums, site_names):\n            if entered_site == site_num:\n                final_df = payload_df[payload_df['Launch Site']==site_name]\n\n                fig = px.scatter(final_df, x='Payload Mass (kg)', y='payload_df', color='Booster Version Category')\n                return fig\n\n\n# Run the app\nif __name__ == '__main__':\n    app.run_server()\n",
      "metadata": {},
      "execution_count": null,
      "outputs": []
    }
  ]
}